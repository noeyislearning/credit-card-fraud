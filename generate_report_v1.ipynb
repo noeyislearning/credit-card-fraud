{
 "cells": [
  {
   "cell_type": "markdown",
   "source": [
    "# Credit Card Fraud"
   ],
   "metadata": {
    "collapsed": false
   },
   "id": "84ce3f13f52a64c1"
  },
  {
   "cell_type": "markdown",
   "source": [
    "## Import Libraries"
   ],
   "metadata": {
    "collapsed": false
   },
   "id": "712ccdd9c77d99fe"
  },
  {
   "cell_type": "code",
   "execution_count": 1,
   "outputs": [],
   "source": [
    "import pandas as pd\n",
    "import numpy as np\n",
    "import matplotlib.pyplot as plt\n",
    "import seaborn as sns"
   ],
   "metadata": {
    "collapsed": false,
    "ExecuteTime": {
     "end_time": "2023-10-23T02:35:54.033930100Z",
     "start_time": "2023-10-23T02:35:54.026899Z"
    }
   },
   "id": "8513f79fb33180c"
  },
  {
   "cell_type": "markdown",
   "source": [
    "## Global Options"
   ],
   "metadata": {
    "collapsed": false
   },
   "id": "dbc2b0ace06fd744"
  },
  {
   "cell_type": "code",
   "execution_count": 2,
   "outputs": [],
   "source": [
    "# Set display configuration"
   ],
   "metadata": {
    "collapsed": false,
    "ExecuteTime": {
     "end_time": "2023-10-23T02:36:19.063312100Z",
     "start_time": "2023-10-23T02:36:19.030366600Z"
    }
   },
   "id": "1d1cdf1459e6f5bf"
  },
  {
   "cell_type": "markdown",
   "source": [
    "## Data Preparation\n",
    "\n",
    "- Start loading the dataset and perform some basic exploratory analysis"
   ],
   "metadata": {
    "collapsed": false
   },
   "id": "7b106331be3b7967"
  },
  {
   "cell_type": "code",
   "execution_count": 5,
   "outputs": [
    {
     "data": {
      "text/plain": "    trans_date_trans_time                     merchant        category  \\\n0     2019-01-01 00:00:44  \"Heller, Gutmann and Zieme\"     grocery_pos   \n1     2019-01-01 00:00:51               Lind-Buckridge   entertainment   \n2     2019-01-01 00:07:27                    Kiehn Inc     grocery_pos   \n3     2019-01-01 00:09:03                  Beier-Hyatt    shopping_pos   \n4     2019-01-01 00:21:32                   Bruen-Yost        misc_pos   \n..                    ...                          ...             ...   \n195   2019-01-01 12:04:54               Schimmel-Olson       kids_pets   \n196   2019-01-01 12:12:40               Hilpert-Conroy       kids_pets   \n197   2019-01-01 12:13:42                   Jacobi Inc  health_fitness   \n198   2019-01-01 12:18:32                Hammes-Beatty       kids_pets   \n199   2019-01-01 12:27:15    \"Reichert, Rowe and Mraz\"    shopping_net   \n\n        amt                      city state      lat      long  city_pop  \\\n0    107.23                    Orient    WA  48.8878 -118.2105       149   \n1    220.11                Malad City    ID  42.1808 -112.2620      4154   \n2     96.29                   Grenada    CA  41.6125 -122.5258       589   \n3      7.77  High Rolls Mountain Park    NM  32.9396 -105.8189       899   \n4      6.85                   Freedom    WY  43.0172 -111.0292       471   \n..      ...                       ...   ...      ...       ...       ...   \n195   47.96                 Meadville    MO  39.7795  -93.3014       964   \n196   31.17                     Luray    MO  40.4931  -91.8912       519   \n197   19.03                 Littleton    CO  39.5994 -105.0044    320420   \n198   78.55                    Eugene    OR  44.0385 -123.0614    191096   \n199    8.38                    Conway    WA  48.3400 -122.3456        85   \n\n                                     job         dob  \\\n0      Special educational needs teacher  1978-06-21   \n1            Nature conservation officer  1962-01-19   \n2                        Systems analyst  1945-12-21   \n3                        Naval architect  1967-08-30   \n4            \"Education officer, museum\"  1967-08-02   \n..                                   ...         ...   \n195   Tourist information centre manager  1974-12-23   \n196                         Town planner  1966-02-13   \n197                       Water engineer  1975-07-31   \n198           \"Scientist, physiological\"  1964-04-06   \n199  \"Research officer, political party\"  1984-09-01   \n\n                            trans_num  merch_lat  merch_long  is_fraud  \n0    1f76529f8574734946361c461b024d99  49.159047 -118.186462         0  \n1    a1a22d70485983eac12b5b88dad1cf95  43.150704 -112.154481         0  \n2    413636e759663f264aae1819a4d4f231  41.657520 -122.230347         0  \n3    8a6293af5ed278dea14448ded2685fea  32.863258 -106.520205         0  \n4    f3c43d336e92a44fc2fb67058d5949e3  43.753735 -111.454923         0  \n..                                ...        ...         ...       ...  \n195  522e4b449157a7b1e1b25a1710bca3d4  39.206677  -93.033773         0  \n196  145f9626ba7da47ad3672379e318ad6f  40.858986  -92.209069         0  \n197  ea09483a48b1b77a85ae0a00fa341c54  39.105052 -105.656623         0  \n198  0681c9e2a48735a47fccf0bed805d52f  44.398931 -122.136405         0  \n199  75971e5cf0d65c6410d8d9df1eeb626a  47.841849 -122.904667         0  \n\n[200 rows x 15 columns]",
      "text/html": "<div>\n<style scoped>\n    .dataframe tbody tr th:only-of-type {\n        vertical-align: middle;\n    }\n\n    .dataframe tbody tr th {\n        vertical-align: top;\n    }\n\n    .dataframe thead th {\n        text-align: right;\n    }\n</style>\n<table border=\"1\" class=\"dataframe\">\n  <thead>\n    <tr style=\"text-align: right;\">\n      <th></th>\n      <th>trans_date_trans_time</th>\n      <th>merchant</th>\n      <th>category</th>\n      <th>amt</th>\n      <th>city</th>\n      <th>state</th>\n      <th>lat</th>\n      <th>long</th>\n      <th>city_pop</th>\n      <th>job</th>\n      <th>dob</th>\n      <th>trans_num</th>\n      <th>merch_lat</th>\n      <th>merch_long</th>\n      <th>is_fraud</th>\n    </tr>\n  </thead>\n  <tbody>\n    <tr>\n      <th>0</th>\n      <td>2019-01-01 00:00:44</td>\n      <td>\"Heller, Gutmann and Zieme\"</td>\n      <td>grocery_pos</td>\n      <td>107.23</td>\n      <td>Orient</td>\n      <td>WA</td>\n      <td>48.8878</td>\n      <td>-118.2105</td>\n      <td>149</td>\n      <td>Special educational needs teacher</td>\n      <td>1978-06-21</td>\n      <td>1f76529f8574734946361c461b024d99</td>\n      <td>49.159047</td>\n      <td>-118.186462</td>\n      <td>0</td>\n    </tr>\n    <tr>\n      <th>1</th>\n      <td>2019-01-01 00:00:51</td>\n      <td>Lind-Buckridge</td>\n      <td>entertainment</td>\n      <td>220.11</td>\n      <td>Malad City</td>\n      <td>ID</td>\n      <td>42.1808</td>\n      <td>-112.2620</td>\n      <td>4154</td>\n      <td>Nature conservation officer</td>\n      <td>1962-01-19</td>\n      <td>a1a22d70485983eac12b5b88dad1cf95</td>\n      <td>43.150704</td>\n      <td>-112.154481</td>\n      <td>0</td>\n    </tr>\n    <tr>\n      <th>2</th>\n      <td>2019-01-01 00:07:27</td>\n      <td>Kiehn Inc</td>\n      <td>grocery_pos</td>\n      <td>96.29</td>\n      <td>Grenada</td>\n      <td>CA</td>\n      <td>41.6125</td>\n      <td>-122.5258</td>\n      <td>589</td>\n      <td>Systems analyst</td>\n      <td>1945-12-21</td>\n      <td>413636e759663f264aae1819a4d4f231</td>\n      <td>41.657520</td>\n      <td>-122.230347</td>\n      <td>0</td>\n    </tr>\n    <tr>\n      <th>3</th>\n      <td>2019-01-01 00:09:03</td>\n      <td>Beier-Hyatt</td>\n      <td>shopping_pos</td>\n      <td>7.77</td>\n      <td>High Rolls Mountain Park</td>\n      <td>NM</td>\n      <td>32.9396</td>\n      <td>-105.8189</td>\n      <td>899</td>\n      <td>Naval architect</td>\n      <td>1967-08-30</td>\n      <td>8a6293af5ed278dea14448ded2685fea</td>\n      <td>32.863258</td>\n      <td>-106.520205</td>\n      <td>0</td>\n    </tr>\n    <tr>\n      <th>4</th>\n      <td>2019-01-01 00:21:32</td>\n      <td>Bruen-Yost</td>\n      <td>misc_pos</td>\n      <td>6.85</td>\n      <td>Freedom</td>\n      <td>WY</td>\n      <td>43.0172</td>\n      <td>-111.0292</td>\n      <td>471</td>\n      <td>\"Education officer, museum\"</td>\n      <td>1967-08-02</td>\n      <td>f3c43d336e92a44fc2fb67058d5949e3</td>\n      <td>43.753735</td>\n      <td>-111.454923</td>\n      <td>0</td>\n    </tr>\n    <tr>\n      <th>...</th>\n      <td>...</td>\n      <td>...</td>\n      <td>...</td>\n      <td>...</td>\n      <td>...</td>\n      <td>...</td>\n      <td>...</td>\n      <td>...</td>\n      <td>...</td>\n      <td>...</td>\n      <td>...</td>\n      <td>...</td>\n      <td>...</td>\n      <td>...</td>\n      <td>...</td>\n    </tr>\n    <tr>\n      <th>195</th>\n      <td>2019-01-01 12:04:54</td>\n      <td>Schimmel-Olson</td>\n      <td>kids_pets</td>\n      <td>47.96</td>\n      <td>Meadville</td>\n      <td>MO</td>\n      <td>39.7795</td>\n      <td>-93.3014</td>\n      <td>964</td>\n      <td>Tourist information centre manager</td>\n      <td>1974-12-23</td>\n      <td>522e4b449157a7b1e1b25a1710bca3d4</td>\n      <td>39.206677</td>\n      <td>-93.033773</td>\n      <td>0</td>\n    </tr>\n    <tr>\n      <th>196</th>\n      <td>2019-01-01 12:12:40</td>\n      <td>Hilpert-Conroy</td>\n      <td>kids_pets</td>\n      <td>31.17</td>\n      <td>Luray</td>\n      <td>MO</td>\n      <td>40.4931</td>\n      <td>-91.8912</td>\n      <td>519</td>\n      <td>Town planner</td>\n      <td>1966-02-13</td>\n      <td>145f9626ba7da47ad3672379e318ad6f</td>\n      <td>40.858986</td>\n      <td>-92.209069</td>\n      <td>0</td>\n    </tr>\n    <tr>\n      <th>197</th>\n      <td>2019-01-01 12:13:42</td>\n      <td>Jacobi Inc</td>\n      <td>health_fitness</td>\n      <td>19.03</td>\n      <td>Littleton</td>\n      <td>CO</td>\n      <td>39.5994</td>\n      <td>-105.0044</td>\n      <td>320420</td>\n      <td>Water engineer</td>\n      <td>1975-07-31</td>\n      <td>ea09483a48b1b77a85ae0a00fa341c54</td>\n      <td>39.105052</td>\n      <td>-105.656623</td>\n      <td>0</td>\n    </tr>\n    <tr>\n      <th>198</th>\n      <td>2019-01-01 12:18:32</td>\n      <td>Hammes-Beatty</td>\n      <td>kids_pets</td>\n      <td>78.55</td>\n      <td>Eugene</td>\n      <td>OR</td>\n      <td>44.0385</td>\n      <td>-123.0614</td>\n      <td>191096</td>\n      <td>\"Scientist, physiological\"</td>\n      <td>1964-04-06</td>\n      <td>0681c9e2a48735a47fccf0bed805d52f</td>\n      <td>44.398931</td>\n      <td>-122.136405</td>\n      <td>0</td>\n    </tr>\n    <tr>\n      <th>199</th>\n      <td>2019-01-01 12:27:15</td>\n      <td>\"Reichert, Rowe and Mraz\"</td>\n      <td>shopping_net</td>\n      <td>8.38</td>\n      <td>Conway</td>\n      <td>WA</td>\n      <td>48.3400</td>\n      <td>-122.3456</td>\n      <td>85</td>\n      <td>\"Research officer, political party\"</td>\n      <td>1984-09-01</td>\n      <td>75971e5cf0d65c6410d8d9df1eeb626a</td>\n      <td>47.841849</td>\n      <td>-122.904667</td>\n      <td>0</td>\n    </tr>\n  </tbody>\n</table>\n<p>200 rows × 15 columns</p>\n</div>"
     },
     "execution_count": 5,
     "metadata": {},
     "output_type": "execute_result"
    }
   ],
   "source": [
    "# Import the dataset\n",
    "df = pd.read_csv('assets/data/Credit_Card_Fraud.csv')\n",
    "\n",
    "# Explore the dataset\n",
    "df.head(200)"
   ],
   "metadata": {
    "collapsed": false,
    "ExecuteTime": {
     "end_time": "2023-10-23T02:37:30.307711700Z",
     "start_time": "2023-10-23T02:37:30.219779600Z"
    }
   },
   "id": "9c07a32283783dc1"
  },
  {
   "cell_type": "markdown",
   "source": [
    "- Check for missing data, outliers, data types, shape, and duplicates"
   ],
   "metadata": {
    "collapsed": false
   },
   "id": "c4975b74cd4f9a5d"
  },
  {
   "cell_type": "code",
   "execution_count": 6,
   "outputs": [
    {
     "data": {
      "text/plain": "trans_date_trans_time    0\nmerchant                 0\ncategory                 0\namt                      0\ncity                     0\nstate                    0\nlat                      0\nlong                     0\ncity_pop                 0\njob                      0\ndob                      0\ntrans_num                0\nmerch_lat                0\nmerch_long               0\nis_fraud                 0\ndtype: int64"
     },
     "execution_count": 6,
     "metadata": {},
     "output_type": "execute_result"
    }
   ],
   "source": [
    "# Check for missing data\n",
    "df.isnull().sum()"
   ],
   "metadata": {
    "collapsed": false,
    "ExecuteTime": {
     "end_time": "2023-10-23T02:39:36.602512200Z",
     "start_time": "2023-10-23T02:39:36.582683900Z"
    }
   },
   "id": "d980ce511c2d424d"
  },
  {
   "cell_type": "code",
   "execution_count": 7,
   "outputs": [
    {
     "data": {
      "text/plain": "               amt          lat         long      city_pop    merch_lat  \\\ncount  1333.000000  1333.000000  1333.000000  1.333000e+03  1333.000000   \nmean     69.162273    39.869987  -111.438044  9.601609e+04    39.861073   \nstd     125.879021     5.694163    13.698908  2.625325e+05     5.725748   \nmin       1.050000    20.027100  -165.672300  4.600000e+01    19.165823   \n25%       9.860000    36.715400  -120.664900  4.670000e+02    36.878200   \n50%      49.740000    39.741700  -111.794100  1.517000e+03    39.636295   \n75%      84.430000    42.277000  -101.136000  3.488200e+04    42.374139   \nmax    3178.510000    65.689900   -89.628700  1.312922e+06    66.645176   \n\n        merch_long     is_fraud  \ncount  1333.000000  1333.000000  \nmean   -111.438674     0.006002  \nstd      13.712197     0.077266  \nmin    -166.288628     0.000000  \n25%    -120.493701     0.000000  \n50%    -111.367562     0.000000  \n75%    -101.445631     0.000000  \nmax     -89.015733     1.000000  ",
      "text/html": "<div>\n<style scoped>\n    .dataframe tbody tr th:only-of-type {\n        vertical-align: middle;\n    }\n\n    .dataframe tbody tr th {\n        vertical-align: top;\n    }\n\n    .dataframe thead th {\n        text-align: right;\n    }\n</style>\n<table border=\"1\" class=\"dataframe\">\n  <thead>\n    <tr style=\"text-align: right;\">\n      <th></th>\n      <th>amt</th>\n      <th>lat</th>\n      <th>long</th>\n      <th>city_pop</th>\n      <th>merch_lat</th>\n      <th>merch_long</th>\n      <th>is_fraud</th>\n    </tr>\n  </thead>\n  <tbody>\n    <tr>\n      <th>count</th>\n      <td>1333.000000</td>\n      <td>1333.000000</td>\n      <td>1333.000000</td>\n      <td>1.333000e+03</td>\n      <td>1333.000000</td>\n      <td>1333.000000</td>\n      <td>1333.000000</td>\n    </tr>\n    <tr>\n      <th>mean</th>\n      <td>69.162273</td>\n      <td>39.869987</td>\n      <td>-111.438044</td>\n      <td>9.601609e+04</td>\n      <td>39.861073</td>\n      <td>-111.438674</td>\n      <td>0.006002</td>\n    </tr>\n    <tr>\n      <th>std</th>\n      <td>125.879021</td>\n      <td>5.694163</td>\n      <td>13.698908</td>\n      <td>2.625325e+05</td>\n      <td>5.725748</td>\n      <td>13.712197</td>\n      <td>0.077266</td>\n    </tr>\n    <tr>\n      <th>min</th>\n      <td>1.050000</td>\n      <td>20.027100</td>\n      <td>-165.672300</td>\n      <td>4.600000e+01</td>\n      <td>19.165823</td>\n      <td>-166.288628</td>\n      <td>0.000000</td>\n    </tr>\n    <tr>\n      <th>25%</th>\n      <td>9.860000</td>\n      <td>36.715400</td>\n      <td>-120.664900</td>\n      <td>4.670000e+02</td>\n      <td>36.878200</td>\n      <td>-120.493701</td>\n      <td>0.000000</td>\n    </tr>\n    <tr>\n      <th>50%</th>\n      <td>49.740000</td>\n      <td>39.741700</td>\n      <td>-111.794100</td>\n      <td>1.517000e+03</td>\n      <td>39.636295</td>\n      <td>-111.367562</td>\n      <td>0.000000</td>\n    </tr>\n    <tr>\n      <th>75%</th>\n      <td>84.430000</td>\n      <td>42.277000</td>\n      <td>-101.136000</td>\n      <td>3.488200e+04</td>\n      <td>42.374139</td>\n      <td>-101.445631</td>\n      <td>0.000000</td>\n    </tr>\n    <tr>\n      <th>max</th>\n      <td>3178.510000</td>\n      <td>65.689900</td>\n      <td>-89.628700</td>\n      <td>1.312922e+06</td>\n      <td>66.645176</td>\n      <td>-89.015733</td>\n      <td>1.000000</td>\n    </tr>\n  </tbody>\n</table>\n</div>"
     },
     "execution_count": 7,
     "metadata": {},
     "output_type": "execute_result"
    }
   ],
   "source": [
    "# Check for outliers\n",
    "df.describe()"
   ],
   "metadata": {
    "collapsed": false,
    "ExecuteTime": {
     "end_time": "2023-10-23T02:39:48.647332900Z",
     "start_time": "2023-10-23T02:39:48.578458900Z"
    }
   },
   "id": "c51915149b31dec7"
  },
  {
   "cell_type": "code",
   "execution_count": 9,
   "outputs": [
    {
     "name": "stdout",
     "output_type": "stream",
     "text": [
      "Duplicate entries: 0\n"
     ]
    }
   ],
   "source": [
    "# Check for duplicates\n",
    "print('Duplicate entries: {}'.format(df.duplicated().sum()))"
   ],
   "metadata": {
    "collapsed": false,
    "ExecuteTime": {
     "end_time": "2023-10-23T02:43:42.792820100Z",
     "start_time": "2023-10-23T02:43:42.733583600Z"
    }
   },
   "id": "26ff435f2ed49e42"
  },
  {
   "cell_type": "code",
   "execution_count": 12,
   "outputs": [
    {
     "data": {
      "text/plain": "trans_date_trans_time     object\nmerchant                  object\ncategory                  object\namt                      float64\ncity                      object\nstate                     object\nlat                      float64\nlong                     float64\ncity_pop                   int64\njob                       object\ndob                       object\ntrans_num                 object\nmerch_lat                float64\nmerch_long               float64\nis_fraud                   int64\ndtype: object"
     },
     "execution_count": 12,
     "metadata": {},
     "output_type": "execute_result"
    }
   ],
   "source": [
    "# Check for data types\n",
    "df.dtypes"
   ],
   "metadata": {
    "collapsed": false,
    "ExecuteTime": {
     "end_time": "2023-10-23T02:44:48.840064800Z",
     "start_time": "2023-10-23T02:44:48.761796800Z"
    }
   },
   "id": "9bfe26009a95c032"
  },
  {
   "cell_type": "code",
   "execution_count": 11,
   "outputs": [
    {
     "data": {
      "text/plain": "(1333, 15)"
     },
     "execution_count": 11,
     "metadata": {},
     "output_type": "execute_result"
    }
   ],
   "source": [
    "# Check for shape of the dataset\n",
    "df.shape"
   ],
   "metadata": {
    "collapsed": false,
    "ExecuteTime": {
     "end_time": "2023-10-23T02:44:12.867678600Z",
     "start_time": "2023-10-23T02:44:12.865600300Z"
    }
   },
   "id": "afc950c687413ccf"
  },
  {
   "cell_type": "markdown",
   "source": [
    "- Information 'bout the dataset"
   ],
   "metadata": {
    "collapsed": false
   },
   "id": "b950f633a2cf693f"
  },
  {
   "cell_type": "code",
   "execution_count": 13,
   "outputs": [
    {
     "name": "stdout",
     "output_type": "stream",
     "text": [
      "<class 'pandas.core.frame.DataFrame'>\n",
      "RangeIndex: 1333 entries, 0 to 1332\n",
      "Data columns (total 15 columns):\n",
      " #   Column                 Non-Null Count  Dtype  \n",
      "---  ------                 --------------  -----  \n",
      " 0   trans_date_trans_time  1333 non-null   object \n",
      " 1   merchant               1333 non-null   object \n",
      " 2   category               1333 non-null   object \n",
      " 3   amt                    1333 non-null   float64\n",
      " 4   city                   1333 non-null   object \n",
      " 5   state                  1333 non-null   object \n",
      " 6   lat                    1333 non-null   float64\n",
      " 7   long                   1333 non-null   float64\n",
      " 8   city_pop               1333 non-null   int64  \n",
      " 9   job                    1333 non-null   object \n",
      " 10  dob                    1333 non-null   object \n",
      " 11  trans_num              1333 non-null   object \n",
      " 12  merch_lat              1333 non-null   float64\n",
      " 13  merch_long             1333 non-null   float64\n",
      " 14  is_fraud               1333 non-null   int64  \n",
      "dtypes: float64(5), int64(2), object(8)\n",
      "memory usage: 156.3+ KB\n"
     ]
    }
   ],
   "source": [
    "# Check for information about the dataset\n",
    "df.info()"
   ],
   "metadata": {
    "collapsed": false,
    "ExecuteTime": {
     "end_time": "2023-10-23T02:45:27.210578200Z",
     "start_time": "2023-10-23T02:45:27.121114100Z"
    }
   },
   "id": "c9750ac59adc7582"
  },
  {
   "cell_type": "markdown",
   "source": [],
   "metadata": {
    "collapsed": false
   },
   "id": "d5003dda552d2cb7"
  }
 ],
 "metadata": {
  "kernelspec": {
   "display_name": "Python 3",
   "language": "python",
   "name": "python3"
  },
  "language_info": {
   "codemirror_mode": {
    "name": "ipython",
    "version": 2
   },
   "file_extension": ".py",
   "mimetype": "text/x-python",
   "name": "python",
   "nbconvert_exporter": "python",
   "pygments_lexer": "ipython2",
   "version": "2.7.6"
  }
 },
 "nbformat": 4,
 "nbformat_minor": 5
}
